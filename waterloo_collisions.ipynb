{
 "cells": [
  {
   "cell_type": "code",
   "execution_count": 224,
   "metadata": {},
   "outputs": [],
   "source": [
    "import pandas as pd"
   ]
  },
  {
   "cell_type": "code",
   "execution_count": 225,
   "metadata": {},
   "outputs": [],
   "source": [
    "df = pd.read_csv(\"./data/Traffic_Collisions_7381593408705361607.csv\")"
   ]
  },
  {
   "cell_type": "code",
   "execution_count": 226,
   "metadata": {},
   "outputs": [],
   "source": [
    "# df = pd.read_csv(\"./data/waterloo_accidents_clean.csv\")"
   ]
  },
  {
   "cell_type": "code",
   "execution_count": 227,
   "metadata": {},
   "outputs": [
    {
     "data": {
      "text/plain": [
       "8928"
      ]
     },
     "execution_count": 227,
     "metadata": {},
     "output_type": "execute_result"
    }
   ],
   "source": [
    "len(df)"
   ]
  },
  {
   "cell_type": "code",
   "execution_count": 228,
   "metadata": {},
   "outputs": [
    {
     "data": {
      "text/plain": [
       "8930"
      ]
     },
     "execution_count": 228,
     "metadata": {},
     "output_type": "execute_result"
    }
   ],
   "source": [
    "df.isna().sum().sum()"
   ]
  },
  {
   "cell_type": "code",
   "execution_count": 229,
   "metadata": {},
   "outputs": [],
   "source": [
    "df.drop(columns=[\"ENVIRONMENTCONDITION2\"], inplace=True)"
   ]
  },
  {
   "cell_type": "code",
   "execution_count": 230,
   "metadata": {},
   "outputs": [
    {
     "data": {
      "text/plain": [
       "2"
      ]
     },
     "execution_count": 230,
     "metadata": {},
     "output_type": "execute_result"
    }
   ],
   "source": [
    "df.isna().sum().sum()"
   ]
  },
  {
   "cell_type": "code",
   "execution_count": 231,
   "metadata": {},
   "outputs": [],
   "source": [
    "df.dropna(inplace=True)"
   ]
  },
  {
   "cell_type": "code",
   "execution_count": 232,
   "metadata": {},
   "outputs": [
    {
     "data": {
      "text/plain": [
       "0"
      ]
     },
     "execution_count": 232,
     "metadata": {},
     "output_type": "execute_result"
    }
   ],
   "source": [
    "df.isna().sum().sum()"
   ]
  },
  {
   "cell_type": "code",
   "execution_count": 233,
   "metadata": {},
   "outputs": [
    {
     "data": {
      "text/plain": [
       "8927"
      ]
     },
     "execution_count": 233,
     "metadata": {},
     "output_type": "execute_result"
    }
   ],
   "source": [
    "len(df)"
   ]
  },
  {
   "cell_type": "code",
   "execution_count": 234,
   "metadata": {},
   "outputs": [
    {
     "name": "stdout",
     "output_type": "stream",
     "text": [
      "OBJECTID 8927\n",
      "ACCIDENTNUM 8927\n",
      "ACCIDENTDATE 8690\n",
      "ACCIDENT_YEAR 8\n",
      "ACCIDENT_MONTH 12\n",
      "ACCIDENT_DAY 31\n",
      "ACCIDENT_HOUR 24\n",
      "ACCIDENT_MINUTE 60\n",
      "ACCIDENT_SECOND 1\n",
      "ACCIDENT_WEEKDAY 7\n",
      "XCOORD 8451\n",
      "YCOORD 8437\n",
      "LONGITUDE 7539\n",
      "LATITUDE 7562\n",
      "ACCIDENTLOCATION 8\n",
      "COLLISIONTYPE 3\n",
      "CLASSIFICATIONOFACCIDENT 6\n",
      "IMPACTLOCATION 13\n",
      "INITIALDIRECTIONOFTRAVELONE 1\n",
      "INITIALDIRECTIONOFTRAVELTWO 1\n",
      "INITIALIMPACTTYPE 8\n",
      "INTTRAFFICCONTROL 3\n",
      "LIGHT 10\n",
      "LIGHTFORREPORT 10\n",
      "ROADJURISDICTION 6\n",
      "TRAFFICCONTROL 12\n",
      "TRAFFICCONTROLCONDITION 6\n",
      "THRULANENO 4\n",
      "NORTHBOUNDDISOBEYCOUNT 2\n",
      "SOUTHBOUNDDISOBEYCOUNT 2\n",
      "PEDESTRIANINVOLVED 2\n",
      "CYCLISTINVOLVED 2\n",
      "MOTORCYCLISTINVOLVED 2\n",
      "ENVIRONMENTCONDITION1 8\n",
      "SELFREPORTED 2\n",
      "XMLIMPORTNOTES 8193\n",
      "LASTEDITEDDATE 7118\n",
      "x 8451\n",
      "y 8437\n"
     ]
    }
   ],
   "source": [
    "for i in df.columns:\n",
    "    print(i, len(df[i].unique()))"
   ]
  },
  {
   "cell_type": "code",
   "execution_count": null,
   "metadata": {},
   "outputs": [],
   "source": []
  },
  {
   "cell_type": "code",
   "execution_count": 235,
   "metadata": {},
   "outputs": [],
   "source": [
    "df.rename(columns={\"PEDESTRIANINVOLVED\": \"Pedestrian_Involved\",\n",
    "                   \"CYCLISTINVOLVED\": \"Cyclist_Involved\",\n",
    "                   \"MOTORCYCLISTINVOLVED\": \"Motorcyclist_Involved\",\n",
    "                   \"SELFREPORTED\": \"Self_Reported\",\n",
    "                   \"INITIALIMPACTTYPE\": \"Impact_Type\",\n",
    "                   \"CLASSIFICATIONOFACCIDENT\": \"Accident_Type\"}, inplace=True)"
   ]
  },
  {
   "cell_type": "code",
   "execution_count": 236,
   "metadata": {},
   "outputs": [
    {
     "name": "stdout",
     "output_type": "stream",
     "text": [
      "Pedestrian_Involved\n",
      "False    8689\n",
      "True      238\n",
      "Name: count, dtype: int64\n",
      "\n",
      "Cyclist_Involved\n",
      "False    8766\n",
      "True      161\n",
      "Name: count, dtype: int64\n",
      "\n",
      "Motorcyclist_Involved\n",
      "False    8863\n",
      "True       64\n",
      "Name: count, dtype: int64\n",
      "\n"
     ]
    }
   ],
   "source": [
    "vul_columns = [\"Pedestrian_Involved\", \"Cyclist_Involved\", \"Motorcyclist_Involved\"]\n",
    "\n",
    "for i in df[vul_columns]:\n",
    "    print(df[i].value_counts())\n",
    "    print()"
   ]
  },
  {
   "cell_type": "code",
   "execution_count": 237,
   "metadata": {},
   "outputs": [],
   "source": [
    "df[\"Vulnerable_Involved\"] = None"
   ]
  },
  {
   "cell_type": "code",
   "execution_count": 238,
   "metadata": {},
   "outputs": [],
   "source": [
    "for col in vul_columns:\n",
    "    for index, value in df[col].items():\n",
    "        if value == False:\n",
    "            df.at[index, \"Vulnerable_Involved\"] = False\n",
    "        elif value == True:\n",
    "            df.at[index, \"Vulnerable_Involved\"] = True"
   ]
  },
  {
   "cell_type": "code",
   "execution_count": null,
   "metadata": {},
   "outputs": [],
   "source": []
  },
  {
   "cell_type": "code",
   "execution_count": 239,
   "metadata": {},
   "outputs": [
    {
     "data": {
      "text/plain": [
       "Environment_Condition\n",
       "Clear                     7159\n",
       "Snow                       921\n",
       "Rain                       663\n",
       "Freezing Rain               68\n",
       "Fog, mist, smoke, dust      42\n",
       "Drifting Snow               30\n",
       "Other                       24\n",
       "Strong wind                 20\n",
       "Name: count, dtype: int64"
      ]
     },
     "execution_count": 239,
     "metadata": {},
     "output_type": "execute_result"
    }
   ],
   "source": [
    "df.rename(columns={\"ENVIRONMENTCONDITION1\": \"Environment_Condition\"}, inplace=True)\n",
    "cur_column = \"Environment_Condition\"\n",
    "\n",
    "df[cur_column].value_counts()"
   ]
  },
  {
   "cell_type": "code",
   "execution_count": 240,
   "metadata": {},
   "outputs": [
    {
     "data": {
      "text/plain": [
       "Environment_Condition\n",
       "Clear    7159\n",
       "Snow      951\n",
       "Rain      731\n",
       "Other      86\n",
       "Name: count, dtype: int64"
      ]
     },
     "execution_count": 240,
     "metadata": {},
     "output_type": "execute_result"
    }
   ],
   "source": [
    "for index, value in df[cur_column].items():\n",
    "    if value == \"Freezing Rain\":\n",
    "        df.at[index, cur_column] = \"Rain\"\n",
    "    elif value == \"Fog, mist, smoke, dust\" or value == \"Strong wind\":\n",
    "        df.at[index, cur_column] = \"Other\"\n",
    "    elif value == \"Drifting Snow\":\n",
    "        df.at[index, cur_column] = \"Snow\"\n",
    "\n",
    "df[cur_column].value_counts()"
   ]
  },
  {
   "cell_type": "code",
   "execution_count": 241,
   "metadata": {},
   "outputs": [
    {
     "data": {
      "text/plain": [
       "Impact_Type\n",
       "SMV unattended vehicle    2351\n",
       "SMV other                 1566\n",
       "Rear end                  1317\n",
       "Angle                     1109\n",
       "Turning movement          1083\n",
       "Sideswipe                  719\n",
       "Other                      631\n",
       "Approaching                151\n",
       "Name: count, dtype: int64"
      ]
     },
     "execution_count": 241,
     "metadata": {},
     "output_type": "execute_result"
    }
   ],
   "source": [
    "cur_column = \"Impact_Type\"\n",
    "df[cur_column].value_counts()"
   ]
  },
  {
   "cell_type": "code",
   "execution_count": 242,
   "metadata": {},
   "outputs": [
    {
     "data": {
      "text/plain": [
       "Impact_Type\n",
       "SMV             3917\n",
       "Intersection    2911\n",
       "Rear end        1317\n",
       "Other            782\n",
       "Name: count, dtype: int64"
      ]
     },
     "execution_count": 242,
     "metadata": {},
     "output_type": "execute_result"
    }
   ],
   "source": [
    "for index, value in df[cur_column].items():\n",
    "    if value == \"SMV unattended vehicle\" or value == \"SMV other\":\n",
    "        df.at[index, cur_column] = \"SMV\"\n",
    "    elif value in [\"Angle\",\"Turning movement\", \"Sideswipe\"]:\n",
    "        df.at[index, cur_column] = \"Intersection\"\n",
    "    elif value == \"Approaching\":\n",
    "        df.at[index, cur_column] = \"Other\"\n",
    "\n",
    "df[cur_column].value_counts()"
   ]
  },
  {
   "cell_type": "code",
   "execution_count": 243,
   "metadata": {},
   "outputs": [
    {
     "data": {
      "text/plain": [
       "Accident_Type\n",
       "P.D. only           6567\n",
       "Non-fatal injury    1202\n",
       "Non-reportable      1140\n",
       "Fatal injury           9\n",
       "unknown                7\n",
       "Other                  2\n",
       "Name: count, dtype: int64"
      ]
     },
     "execution_count": 243,
     "metadata": {},
     "output_type": "execute_result"
    }
   ],
   "source": [
    "cur_column = \"Accident_Type\"\n",
    "df[cur_column].value_counts()"
   ]
  },
  {
   "cell_type": "code",
   "execution_count": 244,
   "metadata": {},
   "outputs": [
    {
     "data": {
      "text/plain": [
       "Accident_Type\n",
       "P.D. only           6567\n",
       "Non-fatal injury    1202\n",
       "Non-reportable      1140\n",
       "Fatal injury           9\n",
       "Other                  9\n",
       "Name: count, dtype: int64"
      ]
     },
     "execution_count": 244,
     "metadata": {},
     "output_type": "execute_result"
    }
   ],
   "source": [
    "for index, value in df[cur_column].items():\n",
    "    if value == \"unknown\":\n",
    "        df.at[index, cur_column] = \"Other\"\n",
    "\n",
    "df[cur_column].value_counts()"
   ]
  },
  {
   "cell_type": "code",
   "execution_count": 245,
   "metadata": {},
   "outputs": [
    {
     "data": {
      "text/plain": [
       "INITIALDIRECTIONOFTRAVELTWO\n",
       "unknown    8927\n",
       "Name: count, dtype: int64"
      ]
     },
     "execution_count": 245,
     "metadata": {},
     "output_type": "execute_result"
    }
   ],
   "source": [
    "cur_column = \"INITIALDIRECTIONOFTRAVELTWO\"\n",
    "df[cur_column].value_counts()"
   ]
  },
  {
   "cell_type": "code",
   "execution_count": 246,
   "metadata": {},
   "outputs": [],
   "source": [
    "df.drop(columns=[\"INITIALDIRECTIONOFTRAVELONE\", \"INITIALDIRECTIONOFTRAVELTWO\"], inplace=True)"
   ]
  },
  {
   "cell_type": "code",
   "execution_count": 247,
   "metadata": {},
   "outputs": [
    {
     "data": {
      "text/plain": [
       "LIGHT\n",
       "Daylight                6469\n",
       "Dark                    1201\n",
       "Dark, artificial         714\n",
       "Dusk                     236\n",
       "Dawn                     118\n",
       "Daylight, artificial      95\n",
       "Dusk, artificial          57\n",
       "Other                     19\n",
       "Dawn, artificial          15\n",
       "Unknown                    3\n",
       "Name: count, dtype: int64"
      ]
     },
     "execution_count": 247,
     "metadata": {},
     "output_type": "execute_result"
    }
   ],
   "source": [
    "cur_column = \"LIGHT\"\n",
    "df[cur_column].value_counts()"
   ]
  },
  {
   "cell_type": "code",
   "execution_count": 248,
   "metadata": {},
   "outputs": [
    {
     "data": {
      "text/plain": [
       "LIGHT\n",
       "Daylight    6564\n",
       "Dark        1915\n",
       "Dusk         293\n",
       "Dawn         133\n",
       "Other         22\n",
       "Name: count, dtype: int64"
      ]
     },
     "execution_count": 248,
     "metadata": {},
     "output_type": "execute_result"
    }
   ],
   "source": [
    "for index, value in df[cur_column].items():\n",
    "    if value == \"Daylight, artificial\":\n",
    "        df.at[index, cur_column] = \"Daylight\"\n",
    "    elif value == \"Dark, artificial\":\n",
    "        df.at[index, cur_column] = \"Dark\"\n",
    "    elif value == \"Dusk, artificial\":\n",
    "        df.at[index, cur_column] = \"Dusk\"\n",
    "    elif value == \"Dawn, artificial\":\n",
    "        df.at[index, cur_column] = \"Dawn\"\n",
    "    elif value == \"Unknown\":\n",
    "        df.at[index, cur_column] = \"Other\"\n",
    "\n",
    "df[cur_column].value_counts()"
   ]
  },
  {
   "cell_type": "code",
   "execution_count": 249,
   "metadata": {},
   "outputs": [
    {
     "data": {
      "text/plain": [
       "ACCIDENT_SECOND\n",
       "0    8927\n",
       "Name: count, dtype: int64"
      ]
     },
     "execution_count": 249,
     "metadata": {},
     "output_type": "execute_result"
    }
   ],
   "source": [
    "cur_column = \"ACCIDENT_SECOND\"\n",
    "df[cur_column].value_counts()"
   ]
  },
  {
   "cell_type": "code",
   "execution_count": 250,
   "metadata": {},
   "outputs": [
    {
     "data": {
      "text/plain": [
       "INTTRAFFICCONTROL\n",
       "Unknown           8816\n",
       "Stop sign          107\n",
       "Traffic signal       4\n",
       "Name: count, dtype: int64"
      ]
     },
     "execution_count": 250,
     "metadata": {},
     "output_type": "execute_result"
    }
   ],
   "source": [
    "cur_column = \"INTTRAFFICCONTROL\"\n",
    "df[cur_column].value_counts()"
   ]
  },
  {
   "cell_type": "code",
   "execution_count": 251,
   "metadata": {},
   "outputs": [
    {
     "data": {
      "text/plain": [
       "LIGHTFORREPORT\n",
       "01 - Daylight                6469\n",
       "07 - Dark                    1201\n",
       "08 - Dark, artificial         714\n",
       "05 - Dusk                     236\n",
       "03 - Dawn                     118\n",
       "02 - Daylight, artificial      95\n",
       "06 - Dusk, artificial          57\n",
       "99 - Other                     19\n",
       "04 - Dawn, artificial          15\n",
       "00 - Unknown                    3\n",
       "Name: count, dtype: int64"
      ]
     },
     "execution_count": 251,
     "metadata": {},
     "output_type": "execute_result"
    }
   ],
   "source": [
    "cur_column = \"LIGHTFORREPORT\"\n",
    "df[cur_column].value_counts()"
   ]
  },
  {
   "cell_type": "code",
   "execution_count": 252,
   "metadata": {},
   "outputs": [],
   "source": [
    "df.drop(columns=[\"LIGHTFORREPORT\", \"INTTRAFFICCONTROL\", \"ACCIDENT_SECOND\",\n",
    "                 \"SOUTHBOUNDDISOBEYCOUNT\", \"NORTHBOUNDDISOBEYCOUNT\", \"THRULANENO\"], inplace=True)\n"
   ]
  },
  {
   "cell_type": "code",
   "execution_count": 253,
   "metadata": {},
   "outputs": [
    {
     "data": {
      "text/plain": [
       "TRAFFICCONTROL\n",
       "No control            5726\n",
       "Stop sign             1677\n",
       "Traffic signal         833\n",
       "unknown                526\n",
       "Yield sign             112\n",
       "Other                   18\n",
       "Ped. crossover          18\n",
       "Traffic controller       7\n",
       "School guard             4\n",
       "School bus               3\n",
       "Traffic gate             2\n",
       "Police control           1\n",
       "Name: count, dtype: int64"
      ]
     },
     "execution_count": 253,
     "metadata": {},
     "output_type": "execute_result"
    }
   ],
   "source": [
    "cur_column = \"TRAFFICCONTROL\"\n",
    "df[cur_column].value_counts()"
   ]
  },
  {
   "cell_type": "code",
   "execution_count": null,
   "metadata": {},
   "outputs": [],
   "source": []
  },
  {
   "cell_type": "code",
   "execution_count": 254,
   "metadata": {},
   "outputs": [
    {
     "data": {
      "text/plain": [
       "ACCIDENTLOCATION\n",
       "Non intersection         3216\n",
       "At/near private drive    2457\n",
       "At intersection          1689\n",
       "Intersection related     1381\n",
       "Other                     146\n",
       "At railway crossing        20\n",
       "Overpass or bridge         11\n",
       "Underpass or tunnel         7\n",
       "Name: count, dtype: int64"
      ]
     },
     "execution_count": 254,
     "metadata": {},
     "output_type": "execute_result"
    }
   ],
   "source": [
    "cur_column = \"ACCIDENTLOCATION\"\n",
    "df[cur_column].value_counts()"
   ]
  },
  {
   "cell_type": "code",
   "execution_count": 255,
   "metadata": {},
   "outputs": [
    {
     "data": {
      "text/plain": [
       "ACCIDENTLOCATION\n",
       "Non intersection    3216\n",
       "Intersection        3070\n",
       "Private Drive       2457\n",
       "Other                184\n",
       "Name: count, dtype: int64"
      ]
     },
     "execution_count": 255,
     "metadata": {},
     "output_type": "execute_result"
    }
   ],
   "source": [
    "for index, value in df[cur_column].items():\n",
    "    if value in [\"At intersection\", \"Intersection related\"]:\n",
    "        df.at[index, cur_column] = \"Intersection\"\n",
    "    elif value in [\"At railway crossing\", \"Overpass or bridge\", \"Underpass or tunnel\"]:\n",
    "        df.at[index, cur_column] = \"Other\"\n",
    "    elif value == \"At/near private drive\":\n",
    "        df.at[index, cur_column] = \"Private Drive\"\n",
    "\n",
    "df[cur_column].value_counts()"
   ]
  },
  {
   "cell_type": "code",
   "execution_count": 256,
   "metadata": {},
   "outputs": [
    {
     "data": {
      "text/plain": [
       "ACCIDENT_MONTH\n",
       "1     994\n",
       "2     944\n",
       "11    821\n",
       "10    751\n",
       "12    740\n",
       "6     730\n",
       "3     695\n",
       "5     695\n",
       "7     679\n",
       "9     637\n",
       "4     630\n",
       "8     611\n",
       "Name: count, dtype: int64"
      ]
     },
     "execution_count": 256,
     "metadata": {},
     "output_type": "execute_result"
    }
   ],
   "source": [
    "cur_column = \"ACCIDENT_MONTH\"\n",
    "df[cur_column].value_counts()"
   ]
  },
  {
   "cell_type": "code",
   "execution_count": 257,
   "metadata": {},
   "outputs": [
    {
     "data": {
      "text/plain": [
       "Quarter\n",
       "Q1    2633\n",
       "Q4    2312\n",
       "Q2    2055\n",
       "Q3    1927\n",
       "Name: count, dtype: int64"
      ]
     },
     "execution_count": 257,
     "metadata": {},
     "output_type": "execute_result"
    }
   ],
   "source": [
    "for index, value in df[cur_column].items():\n",
    "    if value in [1, 2, 3]:\n",
    "        df.at[index, \"Quarter\"] = \"Q1\"\n",
    "    elif value in [4, 5, 6]:\n",
    "        df.at[index, \"Quarter\"] = \"Q2\"\n",
    "    elif value in [7, 8, 9]:\n",
    "        df.at[index, \"Quarter\"] = \"Q3\"\n",
    "    elif value in [10, 11, 12]:\n",
    "        df.at[index, \"Quarter\"] = \"Q4\"\n",
    "\n",
    "df[\"Quarter\"].value_counts()"
   ]
  },
  {
   "cell_type": "code",
   "execution_count": 258,
   "metadata": {},
   "outputs": [
    {
     "data": {
      "text/plain": [
       "ACCIDENT_WEEKDAY\n",
       "Friday       1502\n",
       "Thursday     1331\n",
       "Tuesday      1310\n",
       "Wednesday    1297\n",
       "Monday       1283\n",
       "Saturday     1211\n",
       "Sunday        993\n",
       "Name: count, dtype: int64"
      ]
     },
     "execution_count": 258,
     "metadata": {},
     "output_type": "execute_result"
    }
   ],
   "source": [
    "cur_column = \"ACCIDENT_WEEKDAY\"\n",
    "df[cur_column].value_counts()"
   ]
  },
  {
   "cell_type": "code",
   "execution_count": 259,
   "metadata": {},
   "outputs": [
    {
     "data": {
      "text/plain": [
       "Day_Type\n",
       "Working    5221\n",
       "Weekend    3706\n",
       "Name: count, dtype: int64"
      ]
     },
     "execution_count": 259,
     "metadata": {},
     "output_type": "execute_result"
    }
   ],
   "source": [
    "df[\"Day_Type\"] = None\n",
    "\n",
    "for index, value in df[cur_column].items():\n",
    "    if value in [\"Friday\", \"Saturday\", \"Sunday\"]:\n",
    "        df.at[index, \"Day_Type\"] = \"Weekend\"\n",
    "    else:\n",
    "        df.at[index, \"Day_Type\"] = \"Working\"\n",
    "\n",
    "df[\"Day_Type\"].value_counts()"
   ]
  },
  {
   "cell_type": "code",
   "execution_count": 260,
   "metadata": {},
   "outputs": [
    {
     "data": {
      "text/plain": [
       "TRAFFICCONTROL\n",
       "No control            5726\n",
       "Stop sign             1677\n",
       "Traffic signal         833\n",
       "unknown                526\n",
       "Yield sign             112\n",
       "Other                   18\n",
       "Ped. crossover          18\n",
       "Traffic controller       7\n",
       "School guard             4\n",
       "School bus               3\n",
       "Traffic gate             2\n",
       "Police control           1\n",
       "Name: count, dtype: int64"
      ]
     },
     "execution_count": 260,
     "metadata": {},
     "output_type": "execute_result"
    }
   ],
   "source": [
    "cur_column = \"TRAFFICCONTROL\"\n",
    "df[cur_column].value_counts()"
   ]
  },
  {
   "cell_type": "code",
   "execution_count": 261,
   "metadata": {},
   "outputs": [
    {
     "data": {
      "text/plain": [
       "TRAFFICCONTROL\n",
       "No control        6252\n",
       "Sign Control      1789\n",
       "Signal Control     833\n",
       "Other               53\n",
       "Name: count, dtype: int64"
      ]
     },
     "execution_count": 261,
     "metadata": {},
     "output_type": "execute_result"
    }
   ],
   "source": [
    "for index, value in df[cur_column].items():\n",
    "    if value in [\"No control\", \"unknown\"]:\n",
    "        df.at[index, cur_column] = \"No control\"\n",
    "    elif value in [\"Stop sign\", \"Yield sign\"]:\n",
    "        df.at[index, cur_column] = \"Sign Control\"\n",
    "    elif value in [\"Traffic signal\"]:\n",
    "        df.at[index, cur_column] = \"Signal Control\"\n",
    "    else:\n",
    "        df.at[index, cur_column] = \"Other\"\n",
    "\n",
    "\n",
    "df[cur_column].value_counts()"
   ]
  },
  {
   "cell_type": "code",
   "execution_count": 262,
   "metadata": {},
   "outputs": [
    {
     "data": {
      "text/plain": [
       "TRAFFICCONTROLCONDITION\n",
       "unknown            5975\n",
       "Functioning        2940\n",
       "Not functioning       4\n",
       "Not applicable        4\n",
       "Missing/Damaged       2\n",
       "Obscured              2\n",
       "Name: count, dtype: int64"
      ]
     },
     "execution_count": 262,
     "metadata": {},
     "output_type": "execute_result"
    }
   ],
   "source": [
    "cur_column = \"TRAFFICCONTROLCONDITION\"\n",
    "df[cur_column].value_counts()"
   ]
  },
  {
   "cell_type": "code",
   "execution_count": 263,
   "metadata": {},
   "outputs": [
    {
     "data": {
      "text/plain": [
       "TRAFFICCONTROLCONDITION\n",
       "Unknown        5979\n",
       "Functioning    2940\n",
       "Improper          8\n",
       "Name: count, dtype: int64"
      ]
     },
     "execution_count": 263,
     "metadata": {},
     "output_type": "execute_result"
    }
   ],
   "source": [
    "for index, value in df[cur_column].items():\n",
    "    if value in [\"Missing/Damaged\", \"Not functioning\", \"Obscured\"]:\n",
    "        df.at[index, cur_column] = \"Improper\"\n",
    "    elif value in [\"unknown\", \"Not applicable\"]:\n",
    "        df.at[index, cur_column] = \"Unknown\"\n",
    "\n",
    "df[cur_column].value_counts()"
   ]
  },
  {
   "cell_type": "code",
   "execution_count": 264,
   "metadata": {},
   "outputs": [
    {
     "data": {
      "text/plain": [
       "ROADJURISDICTION\n",
       "Municipal (excl. Twp. Rd.)    6481\n",
       "Regional municipality         1983\n",
       "unknown                        282\n",
       "Private property               154\n",
       "Township                        26\n",
       "County or district               1\n",
       "Name: count, dtype: int64"
      ]
     },
     "execution_count": 264,
     "metadata": {},
     "output_type": "execute_result"
    }
   ],
   "source": [
    "cur_column = \"ROADJURISDICTION\"\n",
    "df[cur_column].value_counts()"
   ]
  },
  {
   "cell_type": "code",
   "execution_count": 265,
   "metadata": {},
   "outputs": [
    {
     "data": {
      "text/plain": [
       "ROADJURISDICTION\n",
       "Municipal    6507\n",
       "Regional     1984\n",
       "Other         436\n",
       "Name: count, dtype: int64"
      ]
     },
     "execution_count": 265,
     "metadata": {},
     "output_type": "execute_result"
    }
   ],
   "source": [
    "for index, value in df[cur_column].items():\n",
    "    if value in [\"Municipal (excl. Twp. Rd.)\", \"Township\"]:\n",
    "        df.at[index, cur_column] = \"Municipal\"\n",
    "    elif value in [\"Regional municipality\", \"County or district\"]:\n",
    "        df.at[index, cur_column] = \"Regional\"\n",
    "    elif value in [\"Private property\", \"unknown\"]:\n",
    "        df.at[index, cur_column] = \"Other\"\n",
    "\n",
    "df[cur_column].value_counts()"
   ]
  },
  {
   "cell_type": "code",
   "execution_count": 266,
   "metadata": {},
   "outputs": [
    {
     "data": {
      "text/plain": [
       "IMPACTLOCATION\n",
       "Thru lane                      5230\n",
       "Within intersection            1682\n",
       "Right shoulder                  599\n",
       "Not on roadway - right side     500\n",
       "Off highway                     349\n",
       "Not on roadway - left side      193\n",
       "Left turn lane                  137\n",
       "Right turn lane                  96\n",
       "Other                            55\n",
       "Left shoulder                    52\n",
       "Right turn channel               23\n",
       "Two-way left turn lane            6\n",
       "Passing lane                      5\n",
       "Name: count, dtype: int64"
      ]
     },
     "execution_count": 266,
     "metadata": {},
     "output_type": "execute_result"
    }
   ],
   "source": [
    "cur_column = \"IMPACTLOCATION\"\n",
    "df[cur_column].value_counts()"
   ]
  },
  {
   "cell_type": "code",
   "execution_count": 267,
   "metadata": {},
   "outputs": [
    {
     "data": {
      "text/plain": [
       "IMPACTLOCATION\n",
       "On roadway     7179\n",
       "Off roadway    1693\n",
       "Other            55\n",
       "Name: count, dtype: int64"
      ]
     },
     "execution_count": 267,
     "metadata": {},
     "output_type": "execute_result"
    }
   ],
   "source": [
    "for index, value in df[cur_column].items():\n",
    "    if value in [\"Thru lane\", \"Within intersection\", \"Left turn lane\",\n",
    "                 \"Right turn lane\", \"Right turn channel\", \"Two-way left turn lane\",\n",
    "                 \"Passing lane\"]:\n",
    "        df.at[index, cur_column] = \"On roadway\"\n",
    "    elif value in [\"Right shoulder\", \"Not on roadway - right side\", \"Off highway\",\n",
    "                   \"Not on roadway - left side\", \"Left shoulder\"]:\n",
    "        df.at[index, cur_column] = \"Off roadway\"\n",
    "    elif value in [\"Other\"]:\n",
    "        df.at[index, cur_column] = \"Other\"\n",
    "\n",
    "df[cur_column].value_counts()"
   ]
  },
  {
   "cell_type": "code",
   "execution_count": 268,
   "metadata": {},
   "outputs": [
    {
     "name": "stdout",
     "output_type": "stream",
     "text": [
      "OBJECTID 8927\n",
      "ACCIDENTNUM 8927\n",
      "ACCIDENTDATE 8690\n",
      "ACCIDENT_YEAR 8\n",
      "ACCIDENT_MONTH 12\n",
      "ACCIDENT_DAY 31\n",
      "ACCIDENT_HOUR 24\n",
      "ACCIDENT_MINUTE 60\n",
      "ACCIDENT_WEEKDAY 7\n",
      "XCOORD 8451\n",
      "YCOORD 8437\n",
      "LONGITUDE 7539\n",
      "LATITUDE 7562\n",
      "ACCIDENTLOCATION 4\n",
      "COLLISIONTYPE 3\n",
      "Accident_Type 5\n",
      "IMPACTLOCATION 3\n",
      "Impact_Type 4\n",
      "LIGHT 5\n",
      "ROADJURISDICTION 3\n",
      "TRAFFICCONTROL 4\n",
      "TRAFFICCONTROLCONDITION 3\n",
      "Pedestrian_Involved 2\n",
      "Cyclist_Involved 2\n",
      "Motorcyclist_Involved 2\n",
      "Environment_Condition 4\n",
      "Self_Reported 2\n",
      "XMLIMPORTNOTES 8193\n",
      "LASTEDITEDDATE 7118\n",
      "x 8451\n",
      "y 8437\n",
      "Vulnerable_Involved 2\n",
      "Quarter 4\n",
      "Day_Type 2\n"
     ]
    }
   ],
   "source": [
    "for i in df.columns:\n",
    "    print(i, len(df[i].unique()))"
   ]
  },
  {
   "cell_type": "code",
   "execution_count": 273,
   "metadata": {},
   "outputs": [
    {
     "name": "stdout",
     "output_type": "stream",
     "text": [
      "OBJECTID [43481 43482 43483 ... 52406 52407 52408]\n",
      "\n",
      "ACCIDENTNUM ['15-000127' '15-000229' '15-000477' ... '503153047' '503167951'\n",
      " '99-151109']\n",
      "\n",
      "ACCIDENTDATE ['1/1/2015 12:00:00 AM' '1/1/2015 8:45:00 AM' '1/1/2015 5:30:00 PM' ...\n",
      " '4/17/2022 3:00:00 PM' '4/17/2022 6:00:00 PM' '11/8/2015 6:40:00 PM']\n",
      "\n",
      "ACCIDENT_YEAR [2015 2016 2017 2018 2019 2020 2021 2022]\n",
      "\n",
      "ACCIDENT_MONTH [ 1  2  3  4  5  6  7  8  9 10 11 12]\n",
      "\n",
      "ACCIDENT_DAY [ 1  2  3  4  5  6  7  8  9 10 11 12 13 14 15 16 17 18 19 20 21 23 22 24\n",
      " 25 26 27 28 29 30 31]\n",
      "\n",
      "ACCIDENT_HOUR [ 0  8 17 22  9  1 19  2 18 21 10 11 12  5 14 16 15 13 20 23  7  4  6  3]\n",
      "\n",
      "ACCIDENT_MINUTE [ 0 45 30  7 27 34 12  5 20 54 42 15  8 17 35 37 57 23 58 46 36 50 52 56\n",
      " 10 53 31 44 49 55 22 24 32 38 33 13 18 28  9  6  3 59 40  4 16  1 25 26\n",
      " 47 48 21 29 51 41 11 43 14  2 39 19]\n",
      "\n",
      "ACCIDENT_WEEKDAY ['Thursday' 'Friday' 'Saturday' 'Sunday' 'Monday' 'Tuesday' 'Wednesday']\n",
      "\n",
      "XCOORD [542182.5531 547295.888  541068.     ... 537870.308  544491.013\n",
      " 543306.5402]\n",
      "\n",
      "YCOORD [4804330.069 4809249.336 4811108.    ... 4809733.445 4811766.07\n",
      " 4812181.759]\n",
      "\n",
      "LONGITUDE [-80.479168 -80.41561    0.       ... -80.532036 -80.450061 -80.464668]\n",
      "\n",
      "LATITUDE [43.390668 43.434656  0.       ... 43.439551 43.457488 43.461301]\n",
      "\n",
      "ACCIDENTLOCATION ['Intersection' 'Private Drive' 'Other' 'Non intersection']\n",
      "\n",
      "COLLISIONTYPE [2 1 0]\n",
      "\n",
      "Accident_Type ['P.D. only' 'Non-fatal injury' 'Non-reportable' 'Fatal injury' 'Other']\n",
      "\n",
      "IMPACTLOCATION ['Off roadway' 'On roadway' 'Other']\n",
      "\n",
      "Impact_Type ['SMV' 'Intersection' 'Other' 'Rear end']\n",
      "\n",
      "LIGHT ['Daylight' 'Dark' 'Dusk' 'Dawn' 'Other']\n",
      "\n",
      "ROADJURISDICTION ['Municipal' 'Regional' 'Other']\n",
      "\n",
      "TRAFFICCONTROL ['Sign Control' 'No control' 'Signal Control' 'Other']\n",
      "\n",
      "TRAFFICCONTROLCONDITION ['Functioning' 'Unknown' 'Improper']\n",
      "\n",
      "Pedestrian_Involved [False  True]\n",
      "\n",
      "Cyclist_Involved [False  True]\n",
      "\n",
      "Motorcyclist_Involved [False  True]\n",
      "\n",
      "Environment_Condition ['Clear' 'Rain' 'Snow' 'Other']\n",
      "\n",
      "Self_Reported [False  True]\n",
      "\n",
      "XMLIMPORTNOTES ['BRITTANIA CRES; WOODBINE AV; At'\n",
      " 'MORRISON RD; 372 MORRISON RD ; At; 3 M'\n",
      " 'ONTARIO ST S; JOSEPH ST; Near; 30 M' ...\n",
      " 'Road 1: 68 INGLESIDE DR; Vehicle #1     Make:      Model:      Colour:      Style: ; Vehicle #2     Make: RAM     Model: RTR     Colour: BLU     Style: PK'\n",
      " 'Road 1: HALLIWELL DR; Road 2: RIVER RD E; Vehicle #1     Make: HOND     Model: CRV     Colour: GRY     Style: TY; Vehicle #2     Make:      Model:      Colour:      Style:'\n",
      " 'LOIS ST; FREDERICK ST; 30 M']\n",
      "\n",
      "LASTEDITEDDATE ['3/7/2019 2:40:55 PM' '3/7/2019 2:40:54 PM' '3/7/2019 2:40:53 PM' ...\n",
      " '1/3/2023 10:14:48 AM' '12/22/2022 9:33:24 AM' '1/30/2020 11:41:24 AM']\n",
      "\n",
      "x [542182.5531 547295.888  541068.     ... 537870.308  544491.013\n",
      " 543306.5402]\n",
      "\n",
      "y [4804330.069 4809249.336 4811108.    ... 4809733.446 4811766.07\n",
      " 4812181.759]\n",
      "\n",
      "Vulnerable_Involved [False True]\n",
      "\n",
      "Quarter ['Q1' 'Q2' 'Q3' 'Q4']\n",
      "\n",
      "Day_Type ['Working' 'Weekend']\n",
      "\n"
     ]
    }
   ],
   "source": [
    "for i in df.columns:\n",
    "    print(i, (df[i].unique()))\n",
    "    print()\n"
   ]
  },
  {
   "cell_type": "code",
   "execution_count": 269,
   "metadata": {},
   "outputs": [],
   "source": [
    "df.to_csv(\"./data/waterloo_accidents_clean.csv\")"
   ]
  }
 ],
 "metadata": {
  "kernelspec": {
   "display_name": "Python 3",
   "language": "python",
   "name": "python3"
  },
  "language_info": {
   "codemirror_mode": {
    "name": "ipython",
    "version": 3
   },
   "file_extension": ".py",
   "mimetype": "text/x-python",
   "name": "python",
   "nbconvert_exporter": "python",
   "pygments_lexer": "ipython3",
   "version": "3.11.4"
  }
 },
 "nbformat": 4,
 "nbformat_minor": 2
}
